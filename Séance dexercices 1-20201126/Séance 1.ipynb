{
 "cells": [
  {
   "cell_type": "markdown",
   "metadata": {},
   "source": [
    "# Séance 1 : Introduction et rappels théoriques\n",
    "\n",
    "## Table des matières\n",
    "\n",
    "* [Introduction](#Intro)\n",
    "* [Fonction de répartition](#CDF)\n",
    "* [Densité de probabilité](#PDF)\n",
    "* [Loi normale](#GAUSS)\n",
    "* [Utilisation de la table de la loi normale](#CDF-GAUSS)\n",
    "* [Fractiles](#FRACT)\n",
    "* [Exercices](#EXOS)\n",
    "* [Annexe 1: Utilisation de Python](#PYTHON)\n",
    "* [Annexe 2: Utilisation de R](./Utilisation%20de%20R.ipynb)"
   ]
  },
  {
   "cell_type": "markdown",
   "metadata": {},
   "source": [
    "## <a id=\"Intro\"> Introduction </a>\n",
    "\n",
    "Dans cette séance, nous allons apprendre à utiliser la loi normale pour modéliser quelques problèmes pratiques.\n",
    "Pour cela, nous allons tout d'abord revenir sur quelques points théoriques comme la fonction de répartition ou la densité de probabilité pour les variables aléatoires continues. Ensuite, nous reviendrons sur les propriétés de la loi normale avant de nous attarder sur les aspects pratiques de son utilisation.\n",
    "Finalement, nous verrons quelques exercices faisant intervenir cette loi.\n",
    "\n",
    "Pour les plus curieux, deux annexes permettent de voir comment résoudre ce type de problèmes en utilisant des langages de programmation tels que *python* ou *R*.\n",
    "\n",
    "[Retour en haut](#Table-des-matières)"
   ]
  },
  {
   "cell_type": "markdown",
   "metadata": {},
   "source": [
    "## <a id=\"CDF\"> Fonction de répartition </a>\n",
    "\n",
    "Soit une variable aléatoire continue $X$. La loi de probabilité de $X$ est donnée par sa fonction de répartition. Celle-ci est définie comme\n",
    "$$\n",
    "F_X(x) \\equiv P_X(X \\leq x).\n",
    "$$\n",
    "La fonction de répartition évaluée en $x$ correspond donc à la probabilité qu'a la variable aléatoire d'être inférieure à cette valeur. La fonction de répartition est donc toujours une fonction croissante comprise entre 0 et 1.\n",
    "\n",
    "Si l'on considère un intervalle $(a, b]$, $a<b$, la probabilité qu'a $X$ d'appartenir à cet intervalle est donc donnée par,\n",
    "$$\n",
    "P_X(a < X \\leq b) = F_X(b) - F_X(a).\n",
    "$$\n",
    "\n",
    "[Retour en haut](#Table-des-matières)\n",
    "\n",
    "## <a id=\"PDF\"> Densité de probabilité </a>\n",
    "\n",
    "Pour introduire la densité de probabilité, considérons un intervalle de longueur $h$. Nous savons que\n",
    "\n",
    "$$\n",
    "      \\dfrac{1}{h} P_X(x < X \\leq x +h) = \\dfrac{F_X(x+h) - F_X(x)}{h}.\n",
    "$$\n",
    "On peut interpréter cette expression comme une densité. En effet, il s'agit d'une masse, donnée par la probabilité d'appartenir à l'intervalle, divisée par la longueur de l'intervalle. En passant à la limite\n",
    "$$\n",
    "      \\lim_{h \\rightarrow 0} \\dfrac{F_X(x+h) - F_X(x)}{h},\n",
    "$$\n",
    "on peut définir, sous réserve que la limite existe, la densité de probabilité $f_X(x)$ associée à $X$ comme\n",
    "$$\n",
    "      f_X(x) = F'_X(x).\n",
    "$$\n",
    "\n",
    "Si l'on connait la densité de probabilité de $X$, on peut donc retrouver la fonction de répartition\n",
    "$$\n",
    "      F_X(x) = \\int_{-\\infty}^{x} f(t) \\mathrm{d}t \\quad \\text{car} \\quad F(-\\infty) = 0.\n",
    "$$\n",
    "\n",
    "Les principales propriétés de la densité de probabilité sont :\n",
    "* Positive : $$ f(t) \\geq 0 \\quad \\forall t \\in \\mathbb{R} $$\n",
    "* Intégrable sur $\\mathbb{R}$ :\n",
    "$$\n",
    "\\int_{-\\infty}^{ + \\infty} f(t) \\mathrm{d}t = 1   \n",
    "$$\n",
    "* La probabilité d'un intervalle s'obtient en intégrant la densité sur ce dernier,\n",
    "$$\n",
    "P_X \\lbrace X \\in [x_1, x_2] \\rbrace = \\int_{x_1}^{x_2} f(t) \\mathrm{d}t   \n",
    "$$\n",
    "\n",
    "[Retour en haut](#Table-des-matières)\n",
    "\n",
    "## <a id=\"GAUSS\"> Loi normale ou loi de Laplace-Gauss </a>\n",
    "\n",
    "Il existe de nombreuses lois de probabilité mais la plus célèbre est la loi normale. Elle correspond à celle d'une variable aléatoire réelle $X$ dont la densité est définie par\n",
    "$$\n",
    "f(x) = \\dfrac{1}{\\sqrt{2 \\pi \\sigma^2}} \\exp{\\left(-\\dfrac{(x-\\mu)^2}{2 \\sigma^2}\\right)}.\n",
    "$$\n",
    "\n",
    "On note que :\n",
    "* $f$ est symétrique par rapport à $x=\\mu$\n",
    "* $f$ est maximum en $x = \\mu$\n",
    "* $f''$ s'annule en $\\mu \\pm \\sigma$ $\\Rightarrow$ deux points d'inflexion\n",
    "* $f(x) \\xrightarrow[x \\rightarrow \\pm \\infty]{} 0$\n",
    "\n",
    "Pour dire que $X$ suit une loi normale de moyenne $\\mu$ et variance $\\sigma^2$, on écrira\n",
    "$$\n",
    "X \\leadsto \\mathcal{N}(\\mu, \\sigma^2).\n",
    "$$\n",
    "\n",
    "Cette loi est particulièrement importante car la somme d'une suite de variables aléatoires indépendantes de même loi parente suit une loi normale, c'est le théorème central limite.\n",
    "\n",
    "![](https://miro.medium.com/max/24000/1*IdGgdrY_n_9_YfkaCh-dag.png)\n",
    "\n",
    "Malheureusement, la fonction de répartition de $X$ ne peut pas être définie analytiquement car $e^{-x^2}$ ne possède pas de primitive. On va donc se ramener à la loi normale centrée réduite pour laquelle la fonction de répartition est tabulée. Nous verrons ensuite comment utiliser cette table.\n",
    "\n",
    "Nous allons donc construire une \"nouvelle\" variable aléatoire $U$ de moyenne nulle (variable centrée) et de variance unitée (variable réduite). La densité de probabilité de $U$ sera donnée par\n",
    "$$\n",
    "\\varphi(u) = \\dfrac{1}{\\sqrt{2 \\pi}} e^{-u^2/2}.\n",
    "$$\n",
    "On voit ainsi qu'il suffit de poser,\n",
    "$$\n",
    "U = \\dfrac{X-\\mu}{\\sigma}\n",
    "$$\n",
    "pour avoir $U \\leadsto \\mathcal{N}(0, 1)$. La fonction de répartition $\\Phi$ de $U$ étant tabulée, on peut trouver la fonction de répartition $F$ de n'importe quelle loi normale car,\n",
    "$$\n",
    "F(x) = \\Phi \\left( \\dfrac{x - \\mu}{\\sigma} \\right).\n",
    "$$\n",
    "\n",
    "Pour finir, la densité de probabilité de $U$ étant paire, on a\n",
    "\n",
    "\\begin{align}\n",
    "\\Phi(-u) &\\equiv P(U \\leq -u)\\\\\n",
    "    &= P(U > u) \\quad \\text{car $\\varphi$ est paire}\\\\\n",
    "    &= 1 - P(U \\leq u)\\\\\n",
    "    &= 1 - \\Phi(u).\n",
    "\\end{align}\n",
    "\n",
    "Par conséquent,\n",
    "$$\n",
    "P(|U| \\leq a) = 2 \\Phi(a) - 1, \\quad a > 0.\n",
    "$$\n",
    "\n",
    "[Retour en haut](#Table-des-matières)\n",
    "\n",
    "## <a id=\"CDF-GAUSS\"> Utilisation de la table de la loi normale </a>\n",
    "\n",
    "Nous allons maintenant voir comment lire la table comportant les données sur la fonction de réparition de la loi normale centrée réduite. Il faut bien évidemment commencer par <a href=\"https://moodle.umons.ac.be/pluginfile.php/335048/mod_folder/content/0/Table%20de%20Loi%20Normale.pdf?forcedownload=1\" target=\"_blanck\"> télécharger la table</a>.\n",
    "\n",
    "On souhaite savoir quelle est la probabilité d'appartenir à l'intervalle centré de largeur 1 $\\sigma$. On cherche donc\n",
    "$$\n",
    "P(|U| \\leq \\sigma) = 2 \\Phi(\\sigma) - 1.\n",
    "$$\n",
    "\n",
    "La valeur de $u$, pour trouver $\\Phi(u)$, est limitée à deux décimales. La première se trouve sur la colonne de gauche et la deuxième sur la ligne du haut. Si $u$ est négatif, on utilisera le fait que\n",
    "$$\\Phi(-u) = 1 - \\Phi(u)$$\n",
    "pour se ramener à une valeur positive.\n",
    "\n",
    "Dans notre cas, $u = \\sigma = 1.00$, on cherche donc sur la colonne de gauche, la ligne correspond à 1.0 et sur la ligne du haut, la colonne correspondant à 0.00.\n",
    "\n",
    "On trouve alors $\\Phi(u = 1.00) = 0.84134$. Ainsi,\n",
    "$$\n",
    "P(|U| \\leq \\sigma) = 2\\cdot0.84134 - 1 = 68\\%.\n",
    "$$\n",
    "\n",
    "\n",
    "### Exercices rapides\n",
    "1. Quelle est la probabilité d'appartenir à l'intervalle centré en $\\mu$ et de longueur $2\\sigma$ ?\n",
    "2. Quelle est la probabilité d'appartenir à l'intervalle centré en $\\mu$ et de longueur $3\\sigma$ ?\n",
    "3. Quelle est la probabilité d'appartenir à l'intervalle centré en $\\mu$ et de longueur $0.26\\sigma$ ?\n",
    "\n",
    "---\n",
    "\n",
    "[Retour en haut](#Table-des-matières)\n",
    "\n",
    "## <a id=\"FRACT\"> Fractiles </a>\n",
    "\n",
    "Nous avons vu comment trouver la probabilité $P$ d'être inférieure ou supérieure à une certaine borne $u$. Il arrive souvent que l'on doive faire le travail inverse. On cherchera alors la valeur de $u$ pour laquelle la probabilité correspond à un seuil $P$. Par exemple, on voudrait un intervalle centré pour lequel la probabilité d'y appartenir est de 50%. On devra ainsi trouver un certain $u$ tel que\n",
    "$$\n",
    "P(|U| \\leq u) = 0.5.\n",
    "$$\n",
    "\n",
    "On appelle **fractile d'ordre p**, $p\\in]0, 1[$, le réel $u_p$ tel que\n",
    "$$\n",
    "P(U \\leq u_p) \\equiv \\Phi(u_p) = p.\n",
    "$$\n",
    "\n",
    "Comme la loi normale centrée réduite est centrée en zéro et paire, les fractiles d'ordres inférieurs à 0.5 seront négatifs et ceux supérieurs à 0.5 seront positifs.\n",
    "\n",
    "Pour notre exemple,\n",
    "$$\n",
    "P(|U| \\leq u_p) = 2 \\Phi(u_p) - 1 = 0.5 \\Rightarrow \\Phi(u_p) = 0.75.\n",
    "$$\n",
    "On cherche donc le fractile d'ordre 0.75. Dans la table fournie, l'ordre du fractile peut contenir jusqu'à trois décimales, les deux premières sont données sur la colonne de gauche ($p < 0.5$) ou de droite ($p > 0.5$). La troisième est donnée par la ligne du haut ($p < 0.5$) ou du bas ($p > 0.5$). Dans notre cas, $p > 0.5$, on va donc considérer sur la colonne de droite, la ligne correspondant à 0.75 et sur la ligne du bas, la colonne correspondant à 0. On trouve alors $u_p = 0.6745$.\n",
    "\n",
    "### Exercices rapides\n",
    "\n",
    "1. Quel est le fractile d'ordre 0.644 ?\n",
    "2. Quel est le fractile d'ordre 0.274 ?\n",
    "3. Quel est le fractile associé à $P(|U| \\leq u_p)$ = 0.25 ?\n",
    "4. Quel est le fractile d'ordre 0.975 ?\n",
    "\n",
    "---"
   ]
  },
  {
   "cell_type": "markdown",
   "metadata": {},
   "source": [
    "## <a id=\"EXOS\"> Exercices </a>\n",
    "\n",
    "### Exercice 1 : Dristubution de la taille des belges\n",
    "La taille $X$ des hommes en Belgique est modélisée par une loi normale, $X\\rightsquigarrow \\mathcal{N}(172,196)$ (en cm)\n",
    "* Quelle proportion de belge a une taille inférieure à 160 cm ?\n",
    "* Quelle proportion de belge mesure plus de deux mètres ?\n",
    "* Quelle proportion de belge mesure entre 165 et 185 cm ?\n",
    "* Si on classait dix milles belges choisis au hasard par ordre de taille croissante, quelle serait la taille du 9000ème ?\n",
    "* La taille $Y$ des femmes belges est modélisée par une loi normale, $Y \\rightsquigarrow \\mathcal{N}(162,144)$ (en cm). Quelle est la probabilité pour qu’un homme choisi au hasard soit plus grand qu’une femme choisie au hasard ?\n",
    "\n",
    "---\n",
    "\n",
    "### Exercice 2 : Durée de vie d'un appareil\n",
    "La durée de vie d’un certain type d’appareil est modélisée par une variable aléatoire suivant une loi normale de moyenne et d’écart-type inconnus. Les spécifications indiquent que 80% de la production des appareils ont une durée de vie entre 120 et 200 jours et que 5% de la production ont une durée de vie inférieure à 120 jours.\n",
    "* Que valent la moyenne $\\mu$ et l'écart-type $\\sigma$ ?\n",
    "* Quelle est la probabilité d’avoir un appareil dont la durée de vie soit entre 200 et 230 jours ?\n",
    "\n",
    "---\n",
    "\n",
    "### Exercice 3 : Problème d'une compagnie d'aviation\n",
    "On admet qu’en moyenne, un passager qui a acheté un billet d’avion, se présente à l’enregistrement avec une probabilité de 0.9. Un avion comporte 200 places.\n",
    "* Si la compagnie accepte 220 réservations, quelle est la probabilité qu’elle doive refuser des passagers ?\n",
    "* Combien de réservations peut-elle accepter au maximum pour que la probabilité de refuser un passager soit inférieure ou égale à 0.01 ?\n",
    "\n",
    "---\n",
    "\n",
    "### Exercice 4 : Taille des épis de blé\n",
    "La taille d’un épi de blé dans un champ est modélisée par une variable aléatoire $X$, $X\\rightsquigarrow\\mathcal{N}(15,36)$ (en cm).\n",
    "* Quelle est la probabilité pour qu’un épi ait une taille inférieure à 16 cm ?\n",
    "* On admet qu’il y a environ 15 millions d’épis dans le champ, donnez une estimation du nombre d’épis de plus de 20 cm.\n",
    "* Quelle est la probabilité pour que 10 épis prélevés dans le champ aient tous leur taille dans l’intervalle $[16, 20]$ ?\n",
    "* On suppose que la taille d’un épi de blé d’un autre champ est modélisée par une variable aléatoire $Y$, $Y \\rightsquigarrow \\mathcal{N}(10,16)$ et que $X$ et $Y$ sont indépendantes. Quelle est la probabilité pour qu’un épi pris dans le premier champ soit plus grand qu’un épi pris dans le second ?\n",
    "\n",
    "---\n",
    "    \n",
    "### Exercice 5 : Transport en bus\n",
    "Entre Mons et Brussels Airport, deux bus de 50 places font le trajet le vendredi. On estime que le nombre de personnes se présentant pour effectuer le trajet est en moyenne de 80. On modélise ce nombre de personnes par une v.a. $X$ telle que $X \\rightsquigarrow \\mathcal{N}(80, 10)$.\n",
    "* Calculez la probabilité que les deux autobus soient pleins.\n",
    "* L’un des deux bus part de la gare, l’autre de la Plaine de Nimy : les voyageurs choisissent au hasard l’un ou l’autre, mais ne peuvent pas changer si le bus qu’ils ont choisi est plein. Supposons que 90 voyageurs veuillent aller de Mons à Brussels Airport. Quelle est la probabilité que l’un d’entre eux ne trouve pas de place ?\n",
    "* Avec les hypothèses du point précédent, quelle devrait être la taille minimale des bus pour que la probabilité de refuser un voyageur soit inférieure à 0.01.\n",
    "\n",
    "---    \n",
    "    \n",
    "### Exercice 6 : Gestions des vaccins\n",
    "On évalue à 0.4 la probabilité qu’une personne en âge d’être vaccinée contre la grippe demande effectivement à l’être. Sur une population de 150000 personnes en âge d’être vaccinées, soit $N$ le nombre de personnes qui demanderont à l’être.\n",
    "* Si on prépare 60500 vaccins, quelle est la probabilité qu’il n’y en ait pas suffisamment ?\n",
    "* Calculez le nombre $m$ de vaccins qu’il faudrait prévoir pour que la probabilité d’en manquer soit égale à 0.1.\n",
    "\n",
    "---    \n",
    "    \n",
    "### Exercice 7 : Problème d'un restaurateur\n",
    "Un restaurant servant des repas uniquement sur réservation, dispose de 50 places. La probabilité qu’une personne ayant réservé ne vienne pas est 1/5. On note $N$ le nombre de repas servis un jour donné.\n",
    "* Si le patron accepte 50 réservations, quelle est la probabilité qu’il serve plus de 45 repas ?\n",
    "* S’il accepte 55 réservations, quelle est la probabilité qu’il se retrouve dans une situation embarrassante ?\n",
    "    \n",
    "[Retour en haut](#Table-des-matières)\n",
    "   "
   ]
  },
  {
   "cell_type": "markdown",
   "metadata": {},
   "source": [
    "## <a id=\"PYTHON\"> Utilisation de Python </a>\n",
    "\n",
    "\n",
    "### Introduction\n",
    "\n",
    "Il est possible d'utiliser Python pour effectuer des études statistiques. En effet, il existe des packages déjà implémentés pour, par exemple, générer des nombres (pseudo) aléatoires, évaluer la fonction de répartition, calculer un fractile, ...\n",
    "\n",
    "Pour commencer, on peut considérer trois modules :\n",
    "1. [le module `stats` de `scipy`](https://docs.scipy.org/doc/scipy/reference/stats.html), qui contient de nombreuses distributions et permet d'effectuer de nombreux tests statistiques (voir la suite du cours);\n",
    "2. [le module `pyplot` de `matplotlib`](https://matplotlib.org/api/pyplot_api.html), qui permet une mise en graphique rapide et personnalisable;\n",
    "3. [le package `numpy`](https://numpy.org), pour des calculs vectoriels/matriciels plus rapides.\n",
    "\n",
    "Pour installer un package python, dirigez vous vers [la documentation](https://packaging.python.org/tutorials/installing-packages/).\n",
    "\n",
    "* Si vous êtes sous Windows, vous pourriez être intéréssés par [*Anaconda*](https://www.anaconda.com/products/individual) qui permet une gestion plus facile des packages python.\n",
    "\n",
    "* Sous Linux ou MacOS, mieux vaut ne pas utiliser *Anaconda* car la gestion des packages est déjà simple. Utilisez simplement [`pip`](https://pypi.org/project/pip/).\n",
    "\n",
    "#### Vérifier la version de pip\n",
    "Pour vérifier la version de `pip`, tapez simplement\n",
    "\n",
    "```\n",
    "pip --version\n",
    "```\n",
    "\n",
    "Si cette commande sort une erreur ou vous dirige vers python2, essayez\n",
    "\n",
    "```\n",
    "pip3 --version\n",
    "```\n",
    "\n",
    "Exemple de sortie\n",
    "\n",
    "```\n",
    "pip 20.0.2 from /usr/lib/python3/dist-packages/pip (python 3.8)\n",
    "```\n",
    "\n",
    "Si ça ne fonctionne toujours pas, suivez les instructions données [ici](https://packaging.python.org/tutorials/installing-packages/#ensure-you-can-run-pip-from-the-command-line).\n",
    "\n",
    "#### Installer un package\n",
    "\n",
    "N.B. : Pour l'installation des différents packages, n'hésitez pas à utliser un [environement virtuel](https://docs.python.org/3/tutorial/venv.html).\n",
    "\n",
    "Pour installer un package, il suffit de taper\n",
    "\n",
    "```\n",
    "pip install nomDuPackage\n",
    "```\n",
    "\n",
    "Dans note cas,\n",
    "\n",
    "```\n",
    "pip install scipy\n",
    "```\n",
    "\n",
    "et\n",
    "\n",
    "```\n",
    "pip install matplotlib\n",
    "```\n",
    "\n",
    "### Les distributions avec Python\n",
    "\n",
    "Une fois le package `scipy` installé, le module `stats` donne accès à de nombreuses distributions de probabilités.\n",
    "\n",
    "Pour illustrer ce module, nous allons utiliser la loi normale."
   ]
  },
  {
   "cell_type": "code",
   "execution_count": 8,
   "metadata": {},
   "outputs": [],
   "source": [
    "# On importe le module stats de scipy\n",
    "import scipy.stats as sp_st"
   ]
  },
  {
   "cell_type": "markdown",
   "metadata": {},
   "source": [
    "On accède à la distribution normale via `norm` (voir [documentation](https://docs.scipy.org/doc/scipy/reference/generated/scipy.stats.norm.html#scipy.stats.norm)). Pour chaque distribution, on accède \n",
    "* à la densité de probabilité via la méthode `pdf` (probability density function);\n",
    "* à la fonction de répartition via `cdf` (cummulative distribution function);\n",
    "* aux fractiles via `ppf` (percent point function);\n",
    "* à un échantillon aléatoire via `rvs` (random variates sample).\n",
    "\n",
    "Pour commencer, traçons de multiples densités gaussiennes avec des moyennes et des écart-types différents."
   ]
  },
  {
   "cell_type": "code",
   "execution_count": 9,
   "metadata": {},
   "outputs": [
    {
     "data": {
      "text/plain": "<Figure size 432x288 with 1 Axes>",
      "image/png": "[encoded data removed]"
     },
     "metadata": {
      "needs_background": "light"
     },
     "output_type": "display_data"
    }
   ],
   "source": [
    "# On importe numpy et matplotlib\n",
    "import numpy as np\n",
    "import matplotlib.pyplot as plt\n",
    "\n",
    "# Différentes moyennes\n",
    "means = [0, 3, -2]\n",
    "# Différents écarts-types\n",
    "sds = [1, 0.5, 4]\n",
    "\n",
    "for mu, sigma in zip(means, sds):\n",
    "    # On crée un ensemble de valeurs où l'on évalue la densité de probabilité\n",
    "    # ces valeurs sont comprises dans l'intervalle centré de largeur 4*sigma\n",
    "    # et on en considère 100\n",
    "    xrange = np.linspace(mu-4*sigma, mu+4*sigma, 100)\n",
    "    # On trace la densité de probabilité de moyenne mu et d'écart-type sigma\n",
    "    plt.plot(xrange, sp_st.norm.pdf(xrange, mu, sigma),\n",
    "            label=rf\"N({mu},{sigma})\")\n",
    "# On ajoute un titre à l'axe y\n",
    "plt.ylabel(\"Densité de probabilité\")\n",
    "# On demande d'afficher la légende\n",
    "plt.legend()\n",
    "# On affiche le graphique\n",
    "plt.show()"
   ]
  },
  {
   "cell_type": "markdown",
   "metadata": {},
   "source": [
    "De la même manière, on peut tracer les différentes fonctions de répartitions."
   ]
  },
  {
   "cell_type": "code",
   "execution_count": 10,
   "metadata": {},
   "outputs": [
    {
     "data": {
      "text/plain": "<Figure size 432x288 with 1 Axes>",
      "image/png": "[encoded data removed]"
     },
     "metadata": {
      "needs_background": "light"
     },
     "output_type": "display_data"
    }
   ],
   "source": [
    "for mu, sigma in zip(means, sds):\n",
    "    # On crée un ensemble de valeurs où l'on évalue la fonction de répartition\n",
    "    # ces valeurs sont comprises dans l'intervalle centré de largeur 4*sigma\n",
    "    # et on en considère 100\n",
    "    xrange = np.linspace(mu-4*sigma, mu+4*sigma, 100)\n",
    "    # On trace la fonction de répartition de moyenne mu et d'écart-type sigma\n",
    "    plt.plot(xrange, sp_st.norm.cdf(xrange, mu, sigma),\n",
    "            label=rf\"N({mu},{sigma})\")\n",
    "# On ajoute un titre à l'axe y\n",
    "plt.ylabel(\"Fonction de répartition\")\n",
    "# On demande d'afficher la légende\n",
    "plt.legend()\n",
    "# On affiche le graphique\n",
    "plt.show()"
   ]
  },
  {
   "cell_type": "markdown",
   "metadata": {},
   "source": [
    "### Résolution de l'exercice 1"
   ]
  },
  {
   "cell_type": "markdown",
   "metadata": {},
   "source": [
    "On va devoir considérer deux distributions. Celle de la taille des hommes et celle de la taille des femmes."
   ]
  },
  {
   "cell_type": "code",
   "execution_count": 11,
   "metadata": {},
   "outputs": [],
   "source": [
    "# Taille moyenne et écart-type pour les hommes\n",
    "mu_men = 172\n",
    "sigma_men = np.sqrt(196)\n",
    "\n",
    "# Taille moyenne et écart-type pour les femmes\n",
    "mu_women = 162\n",
    "sigma_women = np.sqrt(144)"
   ]
  },
  {
   "cell_type": "markdown",
   "metadata": {},
   "source": [
    "1. On cherche la proportion d'hommes belges d'une taille inférieure à 160cm. Il suffit donc d'évaluer la fonction de réparition en 160."
   ]
  },
  {
   "cell_type": "code",
   "execution_count": 12,
   "metadata": {},
   "outputs": [
    {
     "name": "stdout",
     "output_type": "stream",
     "text": [
      "La réponse est 19.57%\n"
     ]
    }
   ],
   "source": [
    "ans = 100*sp_st.norm.cdf(160, mu_men, sigma_men)\n",
    "print(\"La réponse est %.2f%%\" % ans)"
   ]
  },
  {
   "cell_type": "markdown",
   "metadata": {},
   "source": [
    "2. On cherche la proportion d'hommes belges d'une taille supérieure à 2m. Il suffit de connaître la proportion pour une taille inférieure à 2m et de la soustraire des 100%."
   ]
  },
  {
   "cell_type": "code",
   "execution_count": 13,
   "metadata": {},
   "outputs": [
    {
     "name": "stdout",
     "output_type": "stream",
     "text": [
      "La réponse est 2.28%\n"
     ]
    }
   ],
   "source": [
    "ans2 = 100*(1 - sp_st.norm.cdf(200, mu_men, sigma_men))\n",
    "print(\"La réponse est %.2f%%\" % ans2)"
   ]
  },
  {
   "cell_type": "markdown",
   "metadata": {},
   "source": [
    "3. Pour connaître la proportion d'homme belge entre 165 et 185cm, on utilise\n",
    "$$\n",
    "P_X(a < X \\leq b) = F_X(b) - F_X(a)\n",
    "$$\n"
   ]
  },
  {
   "cell_type": "code",
   "execution_count": 14,
   "metadata": {},
   "outputs": [
    {
     "name": "stdout",
     "output_type": "stream",
     "text": [
      "La réponse est 51.49%\n"
     ]
    }
   ],
   "source": [
    "ans3 = 100*(sp_st.norm.cdf(185, mu_men, sigma_men) - sp_st.norm.cdf(165, mu_men, sigma_men))\n",
    "print(\"La réponse est %.2f%%\" % ans3)"
   ]
  },
  {
   "cell_type": "markdown",
   "metadata": {},
   "source": [
    "4. Si on a un échantillon aléatoire de 10000 belges et qu'on les classes par taille croissante, la taille du 9000 sera proche du fractile d'ordre 0.9 de la distribution des tailles. En effet, le fractile d'odre 0.9 correspond à la valeur pour laquelle il y a 90% de chance de lui être inférieure."
   ]
  },
  {
   "cell_type": "code",
   "execution_count": 15,
   "metadata": {},
   "outputs": [
    {
     "name": "stdout",
     "output_type": "stream",
     "text": [
      "La réponse est 189.94cm\n"
     ]
    }
   ],
   "source": [
    "ans4 = sp_st.norm.ppf(0.9, mu_men, sigma_men)\n",
    "print(\"La réponse est %.2fcm\" % ans4)"
   ]
  },
  {
   "cell_type": "markdown",
   "metadata": {},
   "source": [
    "On peut simuler cet échantillon et voir ce qu'il se passe."
   ]
  },
  {
   "cell_type": "code",
   "execution_count": 16,
   "metadata": {},
   "outputs": [
    {
     "data": {
      "text/plain": "<Figure size 432x288 with 1 Axes>",
      "image/png": "[encoded data removed]"
     },
     "metadata": {
      "needs_background": "light"
     },
     "output_type": "display_data"
    },
    {
     "name": "stdout",
     "output_type": "stream",
     "text": [
      "La taille du 9000ème est 189.94cm\n"
     ]
    }
   ],
   "source": [
    "np.random.seed(42)\n",
    "# On crée un échantillon de taille 10000 tiré de notre distribution\n",
    "sample = sp_st.norm.rvs(mu_men, sigma_men, 10000)\n",
    "# On trace l'échantillon\n",
    "plt.hist(sample)\n",
    "plt.xlabel(\"Taille en cm\")\n",
    "plt.ylabel(\"Nombre de personnes\")\n",
    "plt.show()\n",
    "\n",
    "# On trie par taille croissante\n",
    "sample.sort()\n",
    "# On regarde la taille du 9000\n",
    "print(\"La taille du 9000ème est %.2fcm\" % sample[8999])"
   ]
  },
  {
   "cell_type": "markdown",
   "metadata": {},
   "source": [
    "5. On cherche finalement la probabilité qu'un homme choisi au hasard soit plus grand qu'une femme choisie au hasard. Il s'agit donc de trouver\n",
    "$$\n",
    "P(X > Y) = 1 - P(X \\leq Y) = 1 - P(X-Y \\leq 0)\n",
    "$$\n",
    "et on doit donc considérer la nouvelle variable aléatoire $Z = X - Y$.\n",
    "Or, on sait que, lorsqu'on soustrait deux variables aléatoires, les moyennes sont soustraites mais les variances s'additionnent\n",
    "$$\n",
    "\\Rightarrow\n",
    "\\begin{cases}\n",
    "E(Z) &= 10,\\\\\n",
    "\\sigma^2(Z) &= 340.\n",
    "\\end{cases}\n",
    "$$\n",
    "De plus, la somme de deux v.a. gaussiennes indépendantes est également un v.a. gaussienne.\n",
    "\n",
    "On va ainsi évaluer la fonction de répartition de $Z$ en 0 et soustraire cette valeur des 100%."
   ]
  },
  {
   "cell_type": "code",
   "execution_count": 17,
   "metadata": {},
   "outputs": [
    {
     "name": "stdout",
     "output_type": "stream",
     "text": [
      "La réponse est 70.62%\n"
     ]
    }
   ],
   "source": [
    "ans5 = 100*(1 - sp_st.norm.cdf(0, 10, np.sqrt(340)))\n",
    "print(\"La réponse est %.2f%%\" % ans5)"
   ]
  },
  {
   "cell_type": "markdown",
   "metadata": {},
   "source": [
    "[Retour en haut](#Table-des-matières)"
   ]
  }
 ],
 "metadata": {
  "kernelspec": {
   "display_name": "Python 3",
   "language": "python",
   "name": "python3"
  },
  "language_info": {
   "codemirror_mode": {
    "name": "ipython",
    "version": 3
   },
   "file_extension": ".py",
   "mimetype": "text/x-python",
   "name": "python",
   "nbconvert_exporter": "python",
   "pygments_lexer": "ipython3",
   "version": "3.8.5"
  }
 },
 "nbformat": 4,
 "nbformat_minor": 4
}